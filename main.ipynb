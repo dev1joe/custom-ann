{
  "cells": [
    {
      "cell_type": "markdown",
      "id": "36832b11",
      "metadata": {
        "id": "36832b11"
      },
      "source": [
        "## TODO: download the MNIST dataset"
      ]
    },
    {
      "cell_type": "code",
      "execution_count": 1,
      "id": "658a5a49",
      "metadata": {
        "id": "658a5a49"
      },
      "outputs": [],
      "source": [
        "import numpy as np\n",
        "\n",
        "import torch\n",
        "from torchvision import datasets, transforms\n",
        "\n",
        "import matplotlib.pyplot as plt"
      ]
    },
    {
      "cell_type": "code",
      "execution_count": 2,
      "id": "3b01d42b",
      "metadata": {
        "id": "3b01d42b"
      },
      "outputs": [],
      "source": [
        "import utils\n",
        "import layers"
      ]
    },
    {
      "cell_type": "code",
      "execution_count": 3,
      "id": "94ef5250",
      "metadata": {
        "colab": {
          "base_uri": "https://localhost:8080/"
        },
        "id": "94ef5250",
        "outputId": "f6023e1f-f0ed-4927-b9c1-67872a9b97ca"
      },
      "outputs": [
        {
          "output_type": "execute_result",
          "data": {
            "text/plain": [
              "<module 'layers' from '/content/layers.py'>"
            ]
          },
          "metadata": {},
          "execution_count": 3
        }
      ],
      "source": [
        "import importlib\n",
        "importlib.reload(utils)\n",
        "importlib.reload(layers)"
      ]
    },
    {
      "cell_type": "markdown",
      "id": "414e22a2",
      "metadata": {
        "id": "414e22a2"
      },
      "source": [
        "## Load Data"
      ]
    },
    {
      "cell_type": "code",
      "execution_count": 4,
      "id": "eaeee119",
      "metadata": {
        "colab": {
          "base_uri": "https://localhost:8080/"
        },
        "id": "eaeee119",
        "outputId": "fcfa4041-df59-4018-dfe1-59b456074726"
      },
      "outputs": [
        {
          "output_type": "stream",
          "name": "stderr",
          "text": [
            "100%|██████████| 9.91M/9.91M [00:00<00:00, 18.1MB/s]\n",
            "100%|██████████| 28.9k/28.9k [00:00<00:00, 503kB/s]\n",
            "100%|██████████| 1.65M/1.65M [00:00<00:00, 4.53MB/s]\n",
            "100%|██████████| 4.54k/4.54k [00:00<00:00, 8.04MB/s]\n"
          ]
        }
      ],
      "source": [
        "# adding color channels to mnist dataset\n",
        "transform = transforms.Compose([\n",
        "    transforms.ToTensor(),\n",
        "    transforms.Lambda(lambda x: x.repeat(3, 1, 1))  # Convert [1, 28, 28] → [3, 28, 28]\n",
        "])\n",
        "\n",
        "train_dataset = datasets.MNIST(root='./data', train=True, download=True, transform=transform)\n",
        "test_dataset = datasets.MNIST(root='./data', train=False, download=True, transform=transform)\n",
        "train_loader = torch.utils.data.DataLoader(train_dataset, batch_size=64, shuffle=True)\n",
        "test_loader = torch.utils.data.DataLoader(test_dataset, batch_size=64, shuffle=False)"
      ]
    },
    {
      "cell_type": "markdown",
      "id": "13520569",
      "metadata": {
        "id": "13520569"
      },
      "source": [
        "## Data Preview"
      ]
    },
    {
      "cell_type": "code",
      "execution_count": 5,
      "id": "722faa57",
      "metadata": {
        "colab": {
          "base_uri": "https://localhost:8080/",
          "height": 507
        },
        "id": "722faa57",
        "outputId": "883690e5-0d09-47da-e969-1869c173a011"
      },
      "outputs": [
        {
          "output_type": "display_data",
          "data": {
            "text/plain": [
              "<Figure size 800x500 with 6 Axes>"
            ],
            "image/png": "[encoded data removed]"
          },
          "metadata": {}
        }
      ],
      "source": [
        "# Set up a 2x3 grid\n",
        "\n",
        "fig, axes = plt.subplots(2, 3, figsize=(8, 5))\n",
        "\n",
        "for i in range(6):\n",
        "    image, label = train_dataset[i]\n",
        "    tmp_img = image.permute(1, 2, 0)\n",
        "\n",
        "    ax = axes[i // 3, i % 3]  # Convert index to 2D grid position\n",
        "    ax.imshow(tmp_img)\n",
        "    ax.set_title(f\"Index: {i}, Label: {label}\")\n",
        "    ax.axis('off')\n",
        "\n",
        "plt.tight_layout()\n",
        "plt.show()"
      ]
    },
    {
      "cell_type": "markdown",
      "id": "fc44e81c",
      "metadata": {
        "id": "fc44e81c"
      },
      "source": [
        "## Build Neural Network"
      ]
    },
    {
      "cell_type": "code",
      "source": [
        "def train_loader(dataset, batch_size, shuffle=True):\n",
        "    \"\"\"\n",
        "    Custom train loader function to modify data on the fly.\n",
        "    \"\"\"\n",
        "    data_len = len(dataset)\n",
        "    indices = list(range(data_len))\n",
        "    if shuffle:\n",
        "        np.random.shuffle(indices)\n",
        "\n",
        "    for i in range(0, data_len, batch_size):\n",
        "        batch_indices = indices[i : min(i + batch_size, data_len)]\n",
        "        batch_data = []\n",
        "        batch_labels = []\n",
        "        for index in batch_indices:\n",
        "          image, label = dataset[index]\n",
        "          # Modify the image data here if needed, example:\n",
        "          modified_image = image * 2 # Example modification\n",
        "          batch_data.append(modified_image)\n",
        "          batch_labels.append(label)\n",
        "\n",
        "        yield torch.stack(batch_data), torch.tensor(batch_labels)\n",
        "\n",
        "\n",
        "\n",
        "#Using the custom train loader\n",
        "train_loader = train_loader(train_dataset, batch_size=64, shuffle=True)"
      ],
      "metadata": {
        "id": "YLKSHLuOdkhZ"
      },
      "id": "YLKSHLuOdkhZ",
      "execution_count": 6,
      "outputs": []
    },
    {
      "cell_type": "code",
      "source": [
        "# prompt: write custom test_loader\n",
        "\n",
        "import numpy as np\n",
        "def test_loader(dataset, batch_size, shuffle=False):\n",
        "    \"\"\"\n",
        "    Custom test loader function to modify data on the fly.\n",
        "    \"\"\"\n",
        "    data_len = len(dataset)\n",
        "    indices = list(range(data_len))\n",
        "    if shuffle:\n",
        "        np.random.shuffle(indices)\n",
        "\n",
        "    for i in range(0, data_len, batch_size):\n",
        "        batch_indices = indices[i : min(i + batch_size, data_len)]\n",
        "        batch_data = []\n",
        "        batch_labels = []\n",
        "        for index in batch_indices:\n",
        "          image, label = dataset[index]\n",
        "          # Modify the image data here if needed, example:\n",
        "          modified_image = image / 2 # Example modification for test data\n",
        "          batch_data.append(modified_image)\n",
        "          batch_labels.append(label)\n",
        "\n",
        "        yield torch.stack(batch_data), torch.tensor(batch_labels)\n",
        "#Using the custom test loader\n",
        "test_loader = test_loader(test_dataset, batch_size=64, shuffle=False)\n"
      ],
      "metadata": {
        "id": "KuCBqzW8zMzP"
      },
      "id": "KuCBqzW8zMzP",
      "execution_count": 7,
      "outputs": []
    },
    {
      "cell_type": "code",
      "execution_count": 12,
      "id": "a742a933",
      "metadata": {
        "id": "a742a933"
      },
      "outputs": [],
      "source": [
        "class ann:\n",
        "    def __init__(self):\n",
        "        self.conv1 = layers.Conv2D(in_channels=1, out_channels=16, kernel_size=3, stride=1, padding=1)\n",
        "        self.conv2 = layers.Conv2D(in_channels=16, out_channels=32, kernel_size=3, stride=1, padding=1)\n",
        "\n",
        "        self.fc1 = layers.Dense(input_size=32 * 7 * 7, output_size=128)\n",
        "        self.fc2 = layers.Dense(input_size=128, output_size=10)\n",
        "\n",
        "        self.maxPool1 = layers.MaxPool2D(kernel_size=2, stride=2)\n",
        "        self.maxPool2 = layers.MaxPool2D(kernel_size=2, stride=2)\n",
        "\n",
        "        self.flatten = layers.Flatten()\n",
        "\n",
        "    def forward(self, x):\n",
        "        x = utils.relu(self.conv1.forward(x))\n",
        "        print(\"finished forward pass conv1\")\n",
        "\n",
        "        x = self.maxPool1.forward(x)\n",
        "        print(\"maxpool1\")\n",
        "\n",
        "        x = utils.relu(self.conv2.forward(x))\n",
        "        print(\"relu\")\n",
        "\n",
        "        x = self.maxPool2.forward(x)\n",
        "        print(\"maxpool2\")\n",
        "\n",
        "\n",
        "        x = self.flatten.forward(x)\n",
        "        print(\"flatten\")\n",
        "\n",
        "        x = utils.relu(self.fc1.forward(x))\n",
        "        print(\"relu\")\n",
        "\n",
        "        x = self.fc2.forward(x)\n",
        "        print(\"fc2\")\n",
        "\n",
        "        return np.argmax(x, axis=1) + 1"
      ]
    },
    {
      "cell_type": "code",
      "execution_count": 9,
      "id": "4b051ce4",
      "metadata": {
        "colab": {
          "base_uri": "https://localhost:8080/"
        },
        "id": "4b051ce4",
        "outputId": "b0a5d971-5821-4318-9be0-bf0100657092"
      },
      "outputs": [
        {
          "output_type": "stream",
          "name": "stdout",
          "text": [
            "[6]\n"
          ]
        }
      ],
      "source": [
        "image, label = train_dataset[4]\n",
        "\n",
        "network = ann()\n",
        "predicted_y = network.forward(image.unsqueeze(0))\n",
        "print(predicted_y)"
      ]
    },
    {
      "cell_type": "markdown",
      "id": "8f9913b2",
      "metadata": {
        "id": "8f9913b2"
      },
      "source": [
        "## Training"
      ]
    },
    {
      "cell_type": "code",
      "source": [
        "def train_loop(model, train_loader, epochs=10, learning_rate=0.001):\n",
        "    for epoch in range(epochs):\n",
        "        total_loss = 0\n",
        "        correct_predictions = 0\n",
        "        total_samples = 0\n",
        "\n",
        "        for batch_idx, (images, labels) in enumerate(train_loader):\n",
        "          # Assuming train_loader yields (images, labels)\n",
        "          # Convert to numpy if needed\n",
        "          images = images.numpy()\n",
        "          labels = labels.numpy()\n",
        "\n",
        "          # Forward pass\n",
        "          outputs = []\n",
        "          for image in images:\n",
        "            # Add a batch dimension to the image\n",
        "            image = image[None, ...]  # or image = np.expand_dims(image, axis=0)\n",
        "            outputs.append(model.forward(image))\n",
        "\n",
        "          outputs = np.array(outputs)\n",
        "          # Calculate loss (example using mean squared error)\n",
        "          loss = np.mean(np.square(outputs - labels))\n",
        "          total_loss += loss\n",
        "\n",
        "          # Calculate accuracy\n",
        "          predictions = np.round(outputs)\n",
        "          correct_predictions += np.sum(predictions == labels)\n",
        "          total_samples += len(labels)\n",
        "          # Backpropagation (simplified example, no gradient descent)\n",
        "          # In a real scenario you would update weights based on gradients here.\n",
        "          # ... (update model weights using a gradient-based optimizer)\n",
        "\n",
        "        avg_loss = total_loss / len(train_loader)\n",
        "        accuracy = correct_predictions / total_samples\n",
        "        print(f\"Epoch [{epoch+1}/{epochs}], Loss: {avg_loss:.4f}, Accuracy: {accuracy:.4f}\")\n",
        "\n",
        "\n",
        "train_loop(network, train_loader, 10, 0.001)"
      ],
      "metadata": {
        "colab": {
          "base_uri": "https://localhost:8080/",
          "height": 335
        },
        "id": "rj-3ptWvoBM_",
        "outputId": "f7dc02f6-5dcf-4d5d-e62e-91c0c22a620a"
      },
      "id": "rj-3ptWvoBM_",
      "execution_count": 13,
      "outputs": [
        {
          "output_type": "error",
          "ename": "KeyboardInterrupt",
          "evalue": "",
          "traceback": [
            "\u001b[0;31m---------------------------------------------------------------------------\u001b[0m",
            "\u001b[0;31mKeyboardInterrupt\u001b[0m                         Traceback (most recent call last)",
            "\u001b[0;32m<ipython-input-13-a336a8ef8e38>\u001b[0m in \u001b[0;36m<cell line: 0>\u001b[0;34m()\u001b[0m\n\u001b[1;32m     36\u001b[0m \u001b[0;34m\u001b[0m\u001b[0m\n\u001b[1;32m     37\u001b[0m \u001b[0;34m\u001b[0m\u001b[0m\n\u001b[0;32m---> 38\u001b[0;31m \u001b[0mtrain_loop\u001b[0m\u001b[0;34m(\u001b[0m\u001b[0mnetwork\u001b[0m\u001b[0;34m,\u001b[0m \u001b[0mtrain_loader\u001b[0m\u001b[0;34m,\u001b[0m \u001b[0;36m10\u001b[0m\u001b[0;34m,\u001b[0m \u001b[0;36m0.001\u001b[0m\u001b[0;34m)\u001b[0m\u001b[0;34m\u001b[0m\u001b[0;34m\u001b[0m\u001b[0m\n\u001b[0m",
            "\u001b[0;32m<ipython-input-13-a336a8ef8e38>\u001b[0m in \u001b[0;36mtrain_loop\u001b[0;34m(model, train_loader, epochs, learning_rate)\u001b[0m\n\u001b[1;32m     16\u001b[0m             \u001b[0;31m# Add a batch dimension to the image\u001b[0m\u001b[0;34m\u001b[0m\u001b[0;34m\u001b[0m\u001b[0m\n\u001b[1;32m     17\u001b[0m             \u001b[0mimage\u001b[0m \u001b[0;34m=\u001b[0m \u001b[0mimage\u001b[0m\u001b[0;34m[\u001b[0m\u001b[0;32mNone\u001b[0m\u001b[0;34m,\u001b[0m \u001b[0;34m...\u001b[0m\u001b[0;34m]\u001b[0m  \u001b[0;31m# or image = np.expand_dims(image, axis=0)\u001b[0m\u001b[0;34m\u001b[0m\u001b[0;34m\u001b[0m\u001b[0m\n\u001b[0;32m---> 18\u001b[0;31m             \u001b[0moutputs\u001b[0m\u001b[0;34m.\u001b[0m\u001b[0mappend\u001b[0m\u001b[0;34m(\u001b[0m\u001b[0mmodel\u001b[0m\u001b[0;34m.\u001b[0m\u001b[0mforward\u001b[0m\u001b[0;34m(\u001b[0m\u001b[0mimage\u001b[0m\u001b[0;34m)\u001b[0m\u001b[0;34m)\u001b[0m\u001b[0;34m\u001b[0m\u001b[0;34m\u001b[0m\u001b[0m\n\u001b[0m\u001b[1;32m     19\u001b[0m \u001b[0;34m\u001b[0m\u001b[0m\n\u001b[1;32m     20\u001b[0m           \u001b[0moutputs\u001b[0m \u001b[0;34m=\u001b[0m \u001b[0mnp\u001b[0m\u001b[0;34m.\u001b[0m\u001b[0marray\u001b[0m\u001b[0;34m(\u001b[0m\u001b[0moutputs\u001b[0m\u001b[0;34m)\u001b[0m\u001b[0;34m\u001b[0m\u001b[0;34m\u001b[0m\u001b[0m\n",
            "\u001b[0;32m<ipython-input-8-12470416a740>\u001b[0m in \u001b[0;36mforward\u001b[0;34m(self, x)\u001b[0m\n\u001b[1;32m     17\u001b[0m         \u001b[0mx\u001b[0m \u001b[0;34m=\u001b[0m \u001b[0mself\u001b[0m\u001b[0;34m.\u001b[0m\u001b[0mmaxPool1\u001b[0m\u001b[0;34m.\u001b[0m\u001b[0mforward\u001b[0m\u001b[0;34m(\u001b[0m\u001b[0mx\u001b[0m\u001b[0;34m)\u001b[0m\u001b[0;34m\u001b[0m\u001b[0;34m\u001b[0m\u001b[0m\n\u001b[1;32m     18\u001b[0m \u001b[0;34m\u001b[0m\u001b[0m\n\u001b[0;32m---> 19\u001b[0;31m         \u001b[0mx\u001b[0m \u001b[0;34m=\u001b[0m \u001b[0mutils\u001b[0m\u001b[0;34m.\u001b[0m\u001b[0mrelu\u001b[0m\u001b[0;34m(\u001b[0m\u001b[0mself\u001b[0m\u001b[0;34m.\u001b[0m\u001b[0mconv2\u001b[0m\u001b[0;34m.\u001b[0m\u001b[0mforward\u001b[0m\u001b[0;34m(\u001b[0m\u001b[0mx\u001b[0m\u001b[0;34m)\u001b[0m\u001b[0;34m)\u001b[0m\u001b[0;34m\u001b[0m\u001b[0;34m\u001b[0m\u001b[0m\n\u001b[0m\u001b[1;32m     20\u001b[0m \u001b[0;34m\u001b[0m\u001b[0m\n\u001b[1;32m     21\u001b[0m         \u001b[0mx\u001b[0m \u001b[0;34m=\u001b[0m \u001b[0mself\u001b[0m\u001b[0;34m.\u001b[0m\u001b[0mmaxPool2\u001b[0m\u001b[0;34m.\u001b[0m\u001b[0mforward\u001b[0m\u001b[0;34m(\u001b[0m\u001b[0mx\u001b[0m\u001b[0;34m)\u001b[0m\u001b[0;34m\u001b[0m\u001b[0;34m\u001b[0m\u001b[0m\n",
            "\u001b[0;32m/content/layers.py\u001b[0m in \u001b[0;36mforward\u001b[0;34m(self, x)\u001b[0m\n\u001b[1;32m     79\u001b[0m \u001b[0;34m\u001b[0m\u001b[0m\n\u001b[1;32m     80\u001b[0m                         \u001b[0mregion\u001b[0m \u001b[0;34m=\u001b[0m \u001b[0mx_padded\u001b[0m\u001b[0;34m[\u001b[0m\u001b[0mn\u001b[0m\u001b[0;34m,\u001b[0m \u001b[0;34m:\u001b[0m\u001b[0;34m,\u001b[0m \u001b[0mh_start\u001b[0m\u001b[0;34m:\u001b[0m\u001b[0mh_end\u001b[0m\u001b[0;34m,\u001b[0m \u001b[0mw_start\u001b[0m\u001b[0;34m:\u001b[0m\u001b[0mw_end\u001b[0m\u001b[0;34m]\u001b[0m\u001b[0;34m\u001b[0m\u001b[0;34m\u001b[0m\u001b[0m\n\u001b[0;32m---> 81\u001b[0;31m                         \u001b[0mself\u001b[0m\u001b[0;34m.\u001b[0m\u001b[0moutput\u001b[0m\u001b[0;34m[\u001b[0m\u001b[0mn\u001b[0m\u001b[0;34m,\u001b[0m \u001b[0moc\u001b[0m\u001b[0;34m,\u001b[0m \u001b[0mi\u001b[0m\u001b[0;34m,\u001b[0m \u001b[0mj\u001b[0m\u001b[0;34m]\u001b[0m \u001b[0;34m=\u001b[0m \u001b[0mnp\u001b[0m\u001b[0;34m.\u001b[0m\u001b[0msum\u001b[0m\u001b[0;34m(\u001b[0m\u001b[0mregion\u001b[0m \u001b[0;34m*\u001b[0m \u001b[0mself\u001b[0m\u001b[0;34m.\u001b[0m\u001b[0mweights\u001b[0m\u001b[0;34m[\u001b[0m\u001b[0moc\u001b[0m\u001b[0;34m]\u001b[0m\u001b[0;34m)\u001b[0m \u001b[0;34m+\u001b[0m \u001b[0mself\u001b[0m\u001b[0;34m.\u001b[0m\u001b[0mbias\u001b[0m\u001b[0;34m[\u001b[0m\u001b[0moc\u001b[0m\u001b[0;34m]\u001b[0m\u001b[0;34m\u001b[0m\u001b[0;34m\u001b[0m\u001b[0m\n\u001b[0m\u001b[1;32m     82\u001b[0m \u001b[0;34m\u001b[0m\u001b[0m\n\u001b[1;32m     83\u001b[0m         \u001b[0;32mreturn\u001b[0m \u001b[0mself\u001b[0m\u001b[0;34m.\u001b[0m\u001b[0moutput\u001b[0m\u001b[0;34m\u001b[0m\u001b[0;34m\u001b[0m\u001b[0m\n",
            "\u001b[0;31mKeyboardInterrupt\u001b[0m: "
          ]
        }
      ]
    },
    {
      "cell_type": "code",
      "source": [
        "# prompt: write the test_loop not the train_loop\n",
        "\n",
        "def test_loop(model, test_loader):\n",
        "    correct_predictions = 0\n",
        "    total_samples = 0\n",
        "\n",
        "    for images, labels in test_loader:\n",
        "        images = images.numpy()\n",
        "        labels = labels.numpy()\n",
        "\n",
        "        outputs = []\n",
        "        for image in images:\n",
        "            image = image[None, ...]\n",
        "            outputs.append(model.forward(image))\n",
        "\n",
        "        outputs = np.array(outputs)\n",
        "        predictions = np.round(outputs)\n",
        "        correct_predictions += np.sum(predictions == labels)\n",
        "        total_samples += len(labels)\n",
        "\n",
        "    accuracy = correct_predictions / total_samples\n",
        "    print(f\"Test Accuracy: {accuracy:.4f}\")\n",
        "\n",
        "test_loop(network, test_loader)\n"
      ],
      "metadata": {
        "id": "pWDxMxbrypqh"
      },
      "id": "pWDxMxbrypqh",
      "execution_count": null,
      "outputs": []
    }
  ],
  "metadata": {
    "kernelspec": {
      "display_name": "Python 3",
      "name": "python3"
    },
    "language_info": {
      "codemirror_mode": {
        "name": "ipython",
        "version": 3
      },
      "file_extension": ".py",
      "mimetype": "text/x-python",
      "name": "python",
      "nbconvert_exporter": "python",
      "pygments_lexer": "ipython3",
      "version": "3.11.5"
    },
    "colab": {
      "provenance": [],
      "gpuType": "T4"
    },
    "accelerator": "GPU"
  },
  "nbformat": 4,
  "nbformat_minor": 5
}