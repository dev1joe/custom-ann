{
 "cells": [
  {
   "cell_type": "markdown",
   "id": "36832b11",
   "metadata": {},
   "source": [
    "## TODO: download the MNIST dataset"
   ]
  },
  {
   "cell_type": "code",
   "execution_count": 1,
   "id": "658a5a49",
   "metadata": {},
   "outputs": [],
   "source": [
    "import numpy as np\n",
    "import matplotlib.pyplot as plt\n",
    "import torch\n",
    "from torchvision import datasets, transforms"
   ]
  },
  {
   "cell_type": "code",
   "execution_count": 17,
   "id": "3b01d42b",
   "metadata": {},
   "outputs": [],
   "source": [
    "import utils\n",
    "import layers"
   ]
  },
  {
   "cell_type": "code",
   "execution_count": 23,
   "id": "94ef5250",
   "metadata": {},
   "outputs": [
    {
     "data": {
      "text/plain": [
       "<module 'layers' from '/home/joe/Documents/semester-6/pattern-recognition/ann/layers.py'>"
      ]
     },
     "execution_count": 23,
     "metadata": {},
     "output_type": "execute_result"
    }
   ],
   "source": [
    "import importlib\n",
    "importlib.reload(utils)\n",
    "importlib.reload(layers)"
   ]
  },
  {
   "cell_type": "markdown",
   "id": "414e22a2",
   "metadata": {},
   "source": [
    "## Load Data"
   ]
  },
  {
   "cell_type": "code",
   "execution_count": 35,
   "id": "eaeee119",
   "metadata": {},
   "outputs": [],
   "source": [
    "# adding color channels to mnist dataset\n",
    "transform = transforms.Compose([\n",
    "    transforms.ToTensor(),\n",
    "    transforms.Lambda(lambda x: x.repeat(3, 1, 1))  # Convert [1, 28, 28] → [3, 28, 28]\n",
    "])\n",
    "\n",
    "train_dataset = datasets.MNIST(root='./data', train=True, download=True, transform=transform)\n",
    "test_dataset = datasets.MNIST(root='./data', train=False, download=True, transform=transform)\n",
    "train_loader = torch.utils.data.DataLoader(train_dataset, batch_size=64, shuffle=True)\n",
    "test_loader = torch.utils.data.DataLoader(test_dataset, batch_size=64, shuffle=False)"
   ]
  },
  {
   "cell_type": "markdown",
   "id": "13520569",
   "metadata": {},
   "source": [
    "## Data Preview"
   ]
  },
  {
   "cell_type": "code",
   "execution_count": 36,
   "id": "722faa57",
   "metadata": {},
   "outputs": [
    {
     "data": {
      "image/png": "[encoded data removed]",
      "text/plain": [
       "<Figure size 800x500 with 6 Axes>"
      ]
     },
     "metadata": {},
     "output_type": "display_data"
    }
   ],
   "source": [
    "# Set up a 2x3 grid\n",
    "fig, axes = plt.subplots(2, 3, figsize=(8, 5))\n",
    "\n",
    "for i in range(6):\n",
    "    image, label = train_dataset[i]\n",
    "    tmp_img = image.permute(1, 2, 0)\n",
    "    \n",
    "    ax = axes[i // 3, i % 3]  # Convert index to 2D grid position\n",
    "    ax.imshow(tmp_img)\n",
    "    ax.set_title(f\"Index: {i}, Label: {label}\")\n",
    "    ax.axis('off')\n",
    "\n",
    "plt.tight_layout()\n",
    "plt.show()"
   ]
  },
  {
   "cell_type": "markdown",
   "id": "fc44e81c",
   "metadata": {},
   "source": [
    "## Build Neural Network"
   ]
  },
  {
   "cell_type": "code",
   "execution_count": 51,
   "id": "a742a933",
   "metadata": {},
   "outputs": [],
   "source": [
    "class ann:\n",
    "    def __init__(self):\n",
    "        self.conv1 = layers.Conv2D(in_channels=1, out_channels=16, kernel_size=3, stride=1, padding=1)\n",
    "        self.conv2 = layers.Conv2D(in_channels=16, out_channels=32, kernel_size=3, stride=1, padding=1)\n",
    "\n",
    "        self.fc1 = layers.Dense(input_size=32 * 7 * 7, output_size=128)\n",
    "        self.fc2 = layers.Dense(input_size=128, output_size=10)\n",
    "\n",
    "        self.maxPool1 = layers.MaxPool2D(kernel_size=2, stride=2)\n",
    "        self.maxPool2 = layers.MaxPool2D(kernel_size=2, stride=2)\n",
    "        \n",
    "        self.flatten = layers.Flatten()\n",
    "\n",
    "    def forward(self, x):\n",
    "        x = utils.relu(self.conv1.forward(x))\n",
    "        \n",
    "        x = self.maxPool1.forward(x)\n",
    "\n",
    "        x = utils.relu(self.conv2.forward(x))\n",
    "        \n",
    "        x = self.maxPool2.forward(x)\n",
    "\n",
    "        x = self.flatten.forward(x)\n",
    "\n",
    "        x = utils.relu(self.fc1.forward(x))\n",
    "\n",
    "        x = self.fc2.forward(x)\n",
    "\n",
    "        return np.argmax(x, axis=1) + 1"
   ]
  },
  {
   "cell_type": "code",
   "execution_count": 55,
   "id": "4b051ce4",
   "metadata": {},
   "outputs": [
    {
     "name": "stdout",
     "output_type": "stream",
     "text": [
      "[7]\n"
     ]
    }
   ],
   "source": [
    "image, label = train_dataset[4]\n",
    "\n",
    "network = ann()\n",
    "predicted_y = network.forward(image.unsqueeze(0))\n",
    "print(predicted_y)"
   ]
  },
  {
   "cell_type": "markdown",
   "id": "8f9913b2",
   "metadata": {},
   "source": [
    "## Training"
   ]
  },
  {
   "cell_type": "code",
   "execution_count": null,
   "id": "121c0236",
   "metadata": {},
   "outputs": [],
   "source": [
    "# use layers and utils to start training the neural network"
   ]
  }
 ],
 "metadata": {
  "kernelspec": {
   "display_name": "base",
   "language": "python",
   "name": "python3"
  },
  "language_info": {
   "codemirror_mode": {
    "name": "ipython",
    "version": 3
   },
   "file_extension": ".py",
   "mimetype": "text/x-python",
   "name": "python",
   "nbconvert_exporter": "python",
   "pygments_lexer": "ipython3",
   "version": "3.11.5"
  }
 },
 "nbformat": 4,
 "nbformat_minor": 5
}
