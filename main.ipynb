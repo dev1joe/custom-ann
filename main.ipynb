{
  "cells": [
    {
      "cell_type": "code",
      "execution_count": 1,
      "id": "658a5a49",
      "metadata": {
        "id": "658a5a49"
      },
      "outputs": [],
      "source": [
        "import numpy as np\n",
        "\n",
        "import torch\n",
        "from torchvision import datasets, transforms\n",
        "\n",
        "import matplotlib.pyplot as plt\n",
        "\n",
        "from sklearn.metrics import accuracy_score"
      ]
    },
    {
      "cell_type": "code",
      "execution_count": 2,
      "id": "3b01d42b",
      "metadata": {
        "id": "3b01d42b"
      },
      "outputs": [],
      "source": [
        "from cnn import utils, layers"
      ]
    },
    {
      "cell_type": "code",
      "execution_count": 3,
      "id": "94ef5250",
      "metadata": {
        "colab": {
          "base_uri": "https://localhost:8080/"
        },
        "id": "94ef5250",
        "outputId": "f6023e1f-f0ed-4927-b9c1-67872a9b97ca"
      },
      "outputs": [
        {
          "data": {
            "text/plain": [
              "<module 'cnn.layers' from '/home/joe/Documents/semester-6/pattern-recognition/ann/cnn/layers.py'>"
            ]
          },
          "execution_count": 3,
          "metadata": {},
          "output_type": "execute_result"
        }
      ],
      "source": [
        "import importlib\n",
        "importlib.reload(utils)\n",
        "importlib.reload(layers)"
      ]
    },
    {
      "cell_type": "markdown",
      "id": "414e22a2",
      "metadata": {
        "id": "414e22a2"
      },
      "source": [
        "## Load Data"
      ]
    },
    {
      "cell_type": "code",
      "execution_count": null,
      "id": "eaeee119",
      "metadata": {
        "colab": {
          "base_uri": "https://localhost:8080/"
        },
        "id": "eaeee119",
        "outputId": "fcfa4041-df59-4018-dfe1-59b456074726"
      },
      "outputs": [],
      "source": [
        "# adding color channels to mnist dataset\n",
        "transform = transforms.Compose([\n",
        "    transforms.ToTensor(),\n",
        "    transforms.Lambda(lambda x: x.repeat(3, 1, 1))  # Convert [1, 28, 28] → [3, 28, 28]\n",
        "])\n",
        "\n",
        "train_dataset = datasets.MNIST(root='./data', train=True, download=True, transform=transform)\n",
        "test_dataset = datasets.MNIST(root='./data', train=False, download=True, transform=transform)\n",
        "\n",
        "subset_indices = np.arange(5000)\n",
        "\n",
        "small_train_dataset = torch.utils.data.Subset(train_dataset, subset_indices)\n",
        "small_test_dataset = torch.utils.data.Subset(test_dataset, subset_indices)\n",
        "\n",
        "train_loader = torch.utils.data.DataLoader(small_train_dataset, batch_size=64, shuffle=True)\n",
        "test_loader = torch.utils.data.DataLoader(small_test_dataset, batch_size=64, shuffle=False)"
      ]
    },
    {
      "cell_type": "markdown",
      "id": "13520569",
      "metadata": {
        "id": "13520569"
      },
      "source": [
        "## Data Preview"
      ]
    },
    {
      "cell_type": "code",
      "execution_count": 5,
      "id": "722faa57",
      "metadata": {
        "colab": {
          "base_uri": "https://localhost:8080/",
          "height": 507
        },
        "id": "722faa57",
        "outputId": "883690e5-0d09-47da-e969-1869c173a011"
      },
      "outputs": [
        {
          "data": {
            "image/png": "[encoded data removed]",
            "text/plain": [
              "<Figure size 800x500 with 6 Axes>"
            ]
          },
          "metadata": {},
          "output_type": "display_data"
        }
      ],
      "source": [
        "# Set up a 2x3 grid\n",
        "\n",
        "fig, axes = plt.subplots(2, 3, figsize=(8, 5))\n",
        "\n",
        "for i in range(6):\n",
        "    image, label = train_dataset[i]\n",
        "    tmp_img = image.permute(1, 2, 0)\n",
        "\n",
        "    ax = axes[i // 3, i % 3]  # Convert index to 2D grid position\n",
        "    ax.imshow(tmp_img)\n",
        "    ax.set_title(f\"Index: {i}, Label: {label}\")\n",
        "    ax.axis('off')\n",
        "\n",
        "plt.tight_layout()\n",
        "plt.show()"
      ]
    },
    {
      "cell_type": "markdown",
      "id": "fc44e81c",
      "metadata": {
        "id": "fc44e81c"
      },
      "source": [
        "## Build Neural Network"
      ]
    },
    {
      "cell_type": "code",
      "execution_count": 6,
      "id": "YLKSHLuOdkhZ",
      "metadata": {
        "id": "YLKSHLuOdkhZ"
      },
      "outputs": [],
      "source": [
        "def train_loader(dataset, batch_size, shuffle=True):\n",
        "    \"\"\"\n",
        "    Custom train loader function to modify data on the fly.\n",
        "    \"\"\"\n",
        "    data_len = len(dataset)\n",
        "    indices = list(range(data_len))\n",
        "    if shuffle:\n",
        "        np.random.shuffle(indices)\n",
        "\n",
        "    for i in range(0, data_len, batch_size):\n",
        "        batch_indices = indices[i : min(i + batch_size, data_len)]\n",
        "        batch_data = []\n",
        "        batch_labels = []\n",
        "        for index in batch_indices:\n",
        "          image, label = dataset[index]\n",
        "          # Modify the image data here if needed, example:\n",
        "          modified_image = image * 2 # Example modification\n",
        "          batch_data.append(modified_image)\n",
        "          batch_labels.append(label)\n",
        "\n",
        "        yield torch.stack(batch_data), torch.tensor(batch_labels)\n",
        "\n",
        "\n",
        "\n",
        "#Using the custom train loader\n",
        "train_loader = train_loader(train_dataset, batch_size=64, shuffle=True)"
      ]
    },
    {
      "cell_type": "code",
      "execution_count": 7,
      "id": "KuCBqzW8zMzP",
      "metadata": {
        "id": "KuCBqzW8zMzP"
      },
      "outputs": [],
      "source": [
        "# prompt: write custom test_loader\n",
        "\n",
        "import numpy as np\n",
        "def test_loader(dataset, batch_size, shuffle=False):\n",
        "    \"\"\"\n",
        "    Custom test loader function to modify data on the fly.\n",
        "    \"\"\"\n",
        "    data_len = len(dataset)\n",
        "    indices = list(range(data_len))\n",
        "    if shuffle:\n",
        "        np.random.shuffle(indices)\n",
        "\n",
        "    for i in range(0, data_len, batch_size):\n",
        "        batch_indices = indices[i : min(i + batch_size, data_len)]\n",
        "        batch_data = []\n",
        "        batch_labels = []\n",
        "        for index in batch_indices:\n",
        "          image, label = dataset[index]\n",
        "          # Modify the image data here if needed, example:\n",
        "          modified_image = image / 2 # Example modification for test data\n",
        "          batch_data.append(modified_image)\n",
        "          batch_labels.append(label)\n",
        "\n",
        "        yield torch.stack(batch_data), torch.tensor(batch_labels)\n",
        "#Using the custom test loader\n",
        "test_loader = test_loader(test_dataset, batch_size=64, shuffle=False)\n"
      ]
    },
    {
      "cell_type": "code",
      "execution_count": null,
      "id": "a742a933",
      "metadata": {
        "id": "a742a933"
      },
      "outputs": [],
      "source": [
        "class ANN:\n",
        "    def __init__(self):\n",
        "        self.conv1 = layers.Conv2D(1, 16, 3, stride=1, padding=1)\n",
        "        self.conv2 = layers.Conv2D(16, 32, 3, stride=1, padding=1)\n",
        "        self.fc1 = layers.Dense(32 * 7 * 7, 128)\n",
        "        self.fc2 = layers.Dense(128, 10)\n",
        "        self.maxPool1 = layers.MaxPool2D(kernel_size=2, stride=2)\n",
        "        self.maxPool2 = layers.MaxPool2D(kernel_size=2, stride=2)\n",
        "        self.flatten = layers.Flatten()\n",
        "\n",
        "    def forward(self, x):\n",
        "        x = self.conv1.forward(x)\n",
        "        self.relu1_input = x.copy()\n",
        "        x = utils.relu(x)\n",
        "\n",
        "        x = self.maxPool1.forward(x)\n",
        "\n",
        "        x = self.conv2.forward(x)\n",
        "        self.relu2_input = x.copy()\n",
        "        x = utils.relu(x)\n",
        "\n",
        "        x = self.maxPool2.forward(x)\n",
        "        x = self.flatten.forward(x)\n",
        "\n",
        "        x = self.fc1.forward(x)\n",
        "        self.relu_fc1_input = x.copy()\n",
        "        x = utils.relu(x)\n",
        "\n",
        "        x = self.fc2.forward(x)\n",
        "        return x  # logits (raw output before softmax)\n",
        "\n",
        "    def predict(self, x):\n",
        "        logits = self.forward(x)\n",
        "        probs = utils.softmax(logits)\n",
        "        return np.argmax(probs, axis=1)\n",
        "\n",
        "    def backward(self, x, y, logits):\n",
        "        grad = utils.cross_entropy_backward(utils.softmax(logits), y)\n",
        "        grad = self.fc2.backward(grad)\n",
        "        grad = utils.relu_backward(grad, self.relu_fc1_input)\n",
        "        grad = self.fc1.backward(grad)\n",
        "        grad = self.flatten.backward(grad)\n",
        "        grad = self.maxPool2.backward(grad)\n",
        "        grad = utils.relu_backward(grad, self.relu2_input)\n",
        "        grad = self.conv2.backward(grad)\n",
        "        grad = self.maxPool1.backward(grad)\n",
        "        grad = utils.relu_backward(grad, self.relu1_input)\n",
        "        grad = self.conv1.backward(grad)\n",
        "\n",
        "    def update_params(self, lr):\n",
        "        self.conv1.update_params(lr)\n",
        "        self.conv2.update_params(lr)\n",
        "        self.fc1.update_params(lr)\n",
        "        self.fc2.update_params(lr)"
      ]
    },
    {
      "cell_type": "code",
      "execution_count": 9,
      "id": "4b051ce4",
      "metadata": {
        "colab": {
          "base_uri": "https://localhost:8080/"
        },
        "id": "4b051ce4",
        "outputId": "b0a5d971-5821-4318-9be0-bf0100657092"
      },
      "outputs": [
        {
          "name": "stdout",
          "output_type": "stream",
          "text": [
            "[[ 0.05361622  0.00275482 -0.01319875  0.03665668 -0.00446529  0.0783326\n",
            "   0.06127917  0.03156306  0.09450847  0.06914875]]\n"
          ]
        }
      ],
      "source": [
        "image, label = train_dataset[4]\n",
        "\n",
        "network = ANN()\n",
        "predicted_y = network.forward(image.unsqueeze(0))\n",
        "print(predicted_y)"
      ]
    },
    {
      "cell_type": "markdown",
      "id": "8f9913b2",
      "metadata": {
        "id": "8f9913b2"
      },
      "source": [
        "## Training"
      ]
    },
    {
      "cell_type": "code",
      "execution_count": 10,
      "id": "rj-3ptWvoBM_",
      "metadata": {
        "colab": {
          "base_uri": "https://localhost:8080/",
          "height": 335
        },
        "id": "rj-3ptWvoBM_",
        "outputId": "f7dc02f6-5dcf-4d5d-e62e-91c0c22a620a"
      },
      "outputs": [],
      "source": [
        "def train(model, train_loader, num_epochs=1, learning_rate=0.01):\n",
        "    for epoch in range(num_epochs):\n",
        "        total_loss = 0\n",
        "        all_preds = []\n",
        "        all_labels = []\n",
        "\n",
        "        for batch in train_loader:\n",
        "            images, labels = batch\n",
        "            x = images.numpy().reshape(-1, 1, 28, 28)\n",
        "            y = labels.numpy()\n",
        "\n",
        "            # Forward pass\n",
        "            logits = model.forward(x)\n",
        "            probs = utils.softmax(logits)\n",
        "            loss = utils.cross_entropy_loss(probs, y)\n",
        "            total_loss += loss\n",
        "\n",
        "            # Backward pass and update\n",
        "            model.backward(x, y, logits)\n",
        "            model.update_params(learning_rate)\n",
        "\n",
        "            # Track accuracy\n",
        "            predictions = np.argmax(probs, axis=1)\n",
        "            all_preds.extend(predictions)\n",
        "            all_labels.extend(y)\n",
        "\n",
        "        acc = accuracy_score(all_labels, all_preds)\n",
        "        print(f\"Epoch {epoch+1}: Loss = {total_loss:.4f}, Accuracy = {acc:.4f}\")"
      ]
    },
    {
      "cell_type": "code",
      "execution_count": 11,
      "id": "0bb9345c",
      "metadata": {},
      "outputs": [
        {
          "ename": "IndexError",
          "evalue": "boolean index did not match indexed array along dimension 1; dimension is 128 but corresponding boolean dimension is 1568",
          "output_type": "error",
          "traceback": [
            "\u001b[0;31m---------------------------------------------------------------------------\u001b[0m",
            "\u001b[0;31mIndexError\u001b[0m                                Traceback (most recent call last)",
            "Cell \u001b[0;32mIn[11], line 1\u001b[0m\n\u001b[0;32m----> 1\u001b[0m \u001b[43mtrain\u001b[49m\u001b[43m(\u001b[49m\u001b[43mnetwork\u001b[49m\u001b[43m,\u001b[49m\u001b[43m \u001b[49m\u001b[43mtrain_loader\u001b[49m\u001b[43m,\u001b[49m\u001b[43m \u001b[49m\u001b[38;5;241;43m3\u001b[39;49m\u001b[43m,\u001b[49m\u001b[43m \u001b[49m\u001b[38;5;241;43m0.001\u001b[39;49m\u001b[43m)\u001b[49m\n",
            "Cell \u001b[0;32mIn[10], line 19\u001b[0m, in \u001b[0;36mtrain\u001b[0;34m(model, train_loader, num_epochs, learning_rate)\u001b[0m\n\u001b[1;32m     16\u001b[0m total_loss \u001b[38;5;241m+\u001b[39m\u001b[38;5;241m=\u001b[39m loss\n\u001b[1;32m     18\u001b[0m \u001b[38;5;66;03m# Backward pass and update\u001b[39;00m\n\u001b[0;32m---> 19\u001b[0m \u001b[43mmodel\u001b[49m\u001b[38;5;241;43m.\u001b[39;49m\u001b[43mbackward\u001b[49m\u001b[43m(\u001b[49m\u001b[43mx\u001b[49m\u001b[43m,\u001b[49m\u001b[43m \u001b[49m\u001b[43my\u001b[49m\u001b[43m,\u001b[49m\u001b[43m \u001b[49m\u001b[43mlogits\u001b[49m\u001b[43m)\u001b[49m\n\u001b[1;32m     20\u001b[0m model\u001b[38;5;241m.\u001b[39mupdate_params(learning_rate)\n\u001b[1;32m     22\u001b[0m \u001b[38;5;66;03m# Track accuracy\u001b[39;00m\n",
            "Cell \u001b[0;32mIn[8], line 29\u001b[0m, in \u001b[0;36mANN.backward\u001b[0;34m(self, x, y, logits)\u001b[0m\n\u001b[1;32m     27\u001b[0m grad \u001b[38;5;241m=\u001b[39m utils\u001b[38;5;241m.\u001b[39mcross_entropy_backward(utils\u001b[38;5;241m.\u001b[39msoftmax(logits), y)\n\u001b[1;32m     28\u001b[0m grad \u001b[38;5;241m=\u001b[39m \u001b[38;5;28mself\u001b[39m\u001b[38;5;241m.\u001b[39mfc2\u001b[38;5;241m.\u001b[39mbackward(grad)\n\u001b[0;32m---> 29\u001b[0m grad \u001b[38;5;241m=\u001b[39m \u001b[43mutils\u001b[49m\u001b[38;5;241;43m.\u001b[39;49m\u001b[43mrelu_backward\u001b[49m\u001b[43m(\u001b[49m\u001b[43mgrad\u001b[49m\u001b[43m,\u001b[49m\u001b[43m \u001b[49m\u001b[38;5;28;43mself\u001b[39;49m\u001b[38;5;241;43m.\u001b[39;49m\u001b[43mfc1\u001b[49m\u001b[38;5;241;43m.\u001b[39;49m\u001b[43mx\u001b[49m\u001b[43m)\u001b[49m\n\u001b[1;32m     30\u001b[0m grad \u001b[38;5;241m=\u001b[39m \u001b[38;5;28mself\u001b[39m\u001b[38;5;241m.\u001b[39mfc1\u001b[38;5;241m.\u001b[39mbackward(grad)\n\u001b[1;32m     31\u001b[0m grad \u001b[38;5;241m=\u001b[39m \u001b[38;5;28mself\u001b[39m\u001b[38;5;241m.\u001b[39mflatten\u001b[38;5;241m.\u001b[39mbackward(grad)\n",
            "File \u001b[0;32m~/Documents/semester-6/pattern-recognition/ann/cnn/utils.py:12\u001b[0m, in \u001b[0;36mrelu_backward\u001b[0;34m(dout, x)\u001b[0m\n\u001b[1;32m     10\u001b[0m \u001b[38;5;28;01mdef\u001b[39;00m \u001b[38;5;21mrelu_backward\u001b[39m(dout, x):\n\u001b[1;32m     11\u001b[0m     dx \u001b[38;5;241m=\u001b[39m dout\u001b[38;5;241m.\u001b[39mcopy()\n\u001b[0;32m---> 12\u001b[0m     \u001b[43mdx\u001b[49m\u001b[43m[\u001b[49m\u001b[43mx\u001b[49m\u001b[43m \u001b[49m\u001b[38;5;241;43m<\u001b[39;49m\u001b[38;5;241;43m=\u001b[39;49m\u001b[43m \u001b[49m\u001b[38;5;241;43m0\u001b[39;49m\u001b[43m]\u001b[49m \u001b[38;5;241m=\u001b[39m \u001b[38;5;241m0\u001b[39m\n\u001b[1;32m     13\u001b[0m     \u001b[38;5;28;01mreturn\u001b[39;00m dx\n",
            "\u001b[0;31mIndexError\u001b[0m: boolean index did not match indexed array along dimension 1; dimension is 128 but corresponding boolean dimension is 1568"
          ]
        }
      ],
      "source": [
        "train(network, train_loader, 3, 0.001)"
      ]
    },
    {
      "cell_type": "code",
      "execution_count": null,
      "id": "pWDxMxbrypqh",
      "metadata": {
        "id": "pWDxMxbrypqh"
      },
      "outputs": [],
      "source": [
        "# prompt: write the test_loop not the train_loop\n",
        "\n",
        "def test_loop(model, test_loader):\n",
        "    correct_predictions = 0\n",
        "    total_samples = 0\n",
        "\n",
        "    for images, labels in test_loader:\n",
        "        images = images.numpy()\n",
        "        labels = labels.numpy()\n",
        "\n",
        "        outputs = []\n",
        "        for image in images:\n",
        "            image = image[None, ...]\n",
        "            outputs.append(model.forward(image))\n",
        "\n",
        "        outputs = np.array(outputs)\n",
        "        predictions = np.round(outputs)\n",
        "        correct_predictions += np.sum(predictions == labels)\n",
        "        total_samples += len(labels)\n",
        "\n",
        "    accuracy = correct_predictions / total_samples\n",
        "    print(f\"Test Accuracy: {accuracy:.4f}\")\n",
        "\n",
        "test_loop(network, test_loader)\n"
      ]
    }
  ],
  "metadata": {
    "accelerator": "GPU",
    "colab": {
      "gpuType": "T4",
      "provenance": []
    },
    "kernelspec": {
      "display_name": "myEnv",
      "language": "python",
      "name": "python3"
    },
    "language_info": {
      "codemirror_mode": {
        "name": "ipython",
        "version": 3
      },
      "file_extension": ".py",
      "mimetype": "text/x-python",
      "name": "python",
      "nbconvert_exporter": "python",
      "pygments_lexer": "ipython3",
      "version": "3.12.3"
    }
  },
  "nbformat": 4,
  "nbformat_minor": 5
}
